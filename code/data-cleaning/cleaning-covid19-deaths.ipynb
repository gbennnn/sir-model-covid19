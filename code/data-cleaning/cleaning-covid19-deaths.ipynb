{
 "cells": [
  {
   "cell_type": "markdown",
   "metadata": {},
   "source": [
    "### Data Preparation & Data Cleaning"
   ]
  },
  {
   "cell_type": "code",
   "execution_count": 25,
   "metadata": {},
   "outputs": [],
   "source": [
    "import pandas as pd\n",
    "import numpy as np\n",
    "import matplotlib.pyplot as plt\n",
    "import seaborn as sns"
   ]
  },
  {
   "cell_type": "code",
   "execution_count": 26,
   "metadata": {},
   "outputs": [],
   "source": [
    "dataset_path = '../../dataset/our-worl-data/covid-19-deaths.csv'\n",
    "df = pd.read_csv(dataset_path)"
   ]
  },
  {
   "cell_type": "code",
   "execution_count": 27,
   "metadata": {},
   "outputs": [
    {
     "data": {
      "text/plain": [
       "(1809, 6)"
      ]
     },
     "execution_count": 27,
     "metadata": {},
     "output_type": "execute_result"
    }
   ],
   "source": [
    "df.shape"
   ]
  },
  {
   "cell_type": "code",
   "execution_count": 28,
   "metadata": {},
   "outputs": [
    {
     "data": {
      "text/html": [
       "<div>\n",
       "<style scoped>\n",
       "    .dataframe tbody tr th:only-of-type {\n",
       "        vertical-align: middle;\n",
       "    }\n",
       "\n",
       "    .dataframe tbody tr th {\n",
       "        vertical-align: top;\n",
       "    }\n",
       "\n",
       "    .dataframe thead th {\n",
       "        text-align: right;\n",
       "    }\n",
       "</style>\n",
       "<table border=\"1\" class=\"dataframe\">\n",
       "  <thead>\n",
       "    <tr style=\"text-align: right;\">\n",
       "      <th></th>\n",
       "      <th>Entity</th>\n",
       "      <th>Day</th>\n",
       "      <th>Cumulative excess deaths per 100,000 people (central estimate)</th>\n",
       "      <th>Cumulative excess deaths per 100,000 people (95% CI, lower bound)</th>\n",
       "      <th>Cumulative excess deaths per 100,000 people (95% CI, upper bound)</th>\n",
       "      <th>Total confirmed deaths due to COVID-19 per 100,000 people</th>\n",
       "    </tr>\n",
       "  </thead>\n",
       "  <tbody>\n",
       "    <tr>\n",
       "      <th>0</th>\n",
       "      <td>Indonesia</td>\n",
       "      <td>2020-01-01</td>\n",
       "      <td>0.190053</td>\n",
       "      <td>-0.147403</td>\n",
       "      <td>0.844916</td>\n",
       "      <td>NaN</td>\n",
       "    </tr>\n",
       "    <tr>\n",
       "      <th>1</th>\n",
       "      <td>Indonesia</td>\n",
       "      <td>2020-01-04</td>\n",
       "      <td>NaN</td>\n",
       "      <td>NaN</td>\n",
       "      <td>NaN</td>\n",
       "      <td>0.000000</td>\n",
       "    </tr>\n",
       "    <tr>\n",
       "      <th>2</th>\n",
       "      <td>Indonesia</td>\n",
       "      <td>2020-01-05</td>\n",
       "      <td>NaN</td>\n",
       "      <td>NaN</td>\n",
       "      <td>NaN</td>\n",
       "      <td>0.000000</td>\n",
       "    </tr>\n",
       "    <tr>\n",
       "      <th>3</th>\n",
       "      <td>Indonesia</td>\n",
       "      <td>2020-01-06</td>\n",
       "      <td>0.380728</td>\n",
       "      <td>-0.267246</td>\n",
       "      <td>1.692600</td>\n",
       "      <td>0.000000</td>\n",
       "    </tr>\n",
       "    <tr>\n",
       "      <th>4</th>\n",
       "      <td>Indonesia</td>\n",
       "      <td>2020-01-07</td>\n",
       "      <td>NaN</td>\n",
       "      <td>NaN</td>\n",
       "      <td>NaN</td>\n",
       "      <td>0.000000</td>\n",
       "    </tr>\n",
       "    <tr>\n",
       "      <th>...</th>\n",
       "      <td>...</td>\n",
       "      <td>...</td>\n",
       "      <td>...</td>\n",
       "      <td>...</td>\n",
       "      <td>...</td>\n",
       "      <td>...</td>\n",
       "    </tr>\n",
       "    <tr>\n",
       "      <th>95</th>\n",
       "      <td>Indonesia</td>\n",
       "      <td>2020-04-07</td>\n",
       "      <td>NaN</td>\n",
       "      <td>NaN</td>\n",
       "      <td>NaN</td>\n",
       "      <td>0.079260</td>\n",
       "    </tr>\n",
       "    <tr>\n",
       "      <th>96</th>\n",
       "      <td>Indonesia</td>\n",
       "      <td>2020-04-08</td>\n",
       "      <td>NaN</td>\n",
       "      <td>NaN</td>\n",
       "      <td>NaN</td>\n",
       "      <td>0.086074</td>\n",
       "    </tr>\n",
       "    <tr>\n",
       "      <th>97</th>\n",
       "      <td>Indonesia</td>\n",
       "      <td>2020-04-09</td>\n",
       "      <td>NaN</td>\n",
       "      <td>NaN</td>\n",
       "      <td>NaN</td>\n",
       "      <td>0.100419</td>\n",
       "    </tr>\n",
       "    <tr>\n",
       "      <th>98</th>\n",
       "      <td>Indonesia</td>\n",
       "      <td>2020-04-10</td>\n",
       "      <td>NaN</td>\n",
       "      <td>NaN</td>\n",
       "      <td>NaN</td>\n",
       "      <td>0.109744</td>\n",
       "    </tr>\n",
       "    <tr>\n",
       "      <th>99</th>\n",
       "      <td>Indonesia</td>\n",
       "      <td>2020-04-11</td>\n",
       "      <td>NaN</td>\n",
       "      <td>NaN</td>\n",
       "      <td>NaN</td>\n",
       "      <td>0.117276</td>\n",
       "    </tr>\n",
       "  </tbody>\n",
       "</table>\n",
       "<p>100 rows × 6 columns</p>\n",
       "</div>"
      ],
      "text/plain": [
       "       Entity         Day  \\\n",
       "0   Indonesia  2020-01-01   \n",
       "1   Indonesia  2020-01-04   \n",
       "2   Indonesia  2020-01-05   \n",
       "3   Indonesia  2020-01-06   \n",
       "4   Indonesia  2020-01-07   \n",
       "..        ...         ...   \n",
       "95  Indonesia  2020-04-07   \n",
       "96  Indonesia  2020-04-08   \n",
       "97  Indonesia  2020-04-09   \n",
       "98  Indonesia  2020-04-10   \n",
       "99  Indonesia  2020-04-11   \n",
       "\n",
       "    Cumulative excess deaths per 100,000 people (central estimate)  \\\n",
       "0                                            0.190053                \n",
       "1                                                 NaN                \n",
       "2                                                 NaN                \n",
       "3                                            0.380728                \n",
       "4                                                 NaN                \n",
       "..                                                ...                \n",
       "95                                                NaN                \n",
       "96                                                NaN                \n",
       "97                                                NaN                \n",
       "98                                                NaN                \n",
       "99                                                NaN                \n",
       "\n",
       "    Cumulative excess deaths per 100,000 people (95% CI, lower bound)  \\\n",
       "0                                           -0.147403                   \n",
       "1                                                 NaN                   \n",
       "2                                                 NaN                   \n",
       "3                                           -0.267246                   \n",
       "4                                                 NaN                   \n",
       "..                                                ...                   \n",
       "95                                                NaN                   \n",
       "96                                                NaN                   \n",
       "97                                                NaN                   \n",
       "98                                                NaN                   \n",
       "99                                                NaN                   \n",
       "\n",
       "    Cumulative excess deaths per 100,000 people (95% CI, upper bound)  \\\n",
       "0                                            0.844916                   \n",
       "1                                                 NaN                   \n",
       "2                                                 NaN                   \n",
       "3                                            1.692600                   \n",
       "4                                                 NaN                   \n",
       "..                                                ...                   \n",
       "95                                                NaN                   \n",
       "96                                                NaN                   \n",
       "97                                                NaN                   \n",
       "98                                                NaN                   \n",
       "99                                                NaN                   \n",
       "\n",
       "    Total confirmed deaths due to COVID-19 per 100,000 people  \n",
       "0                                                 NaN          \n",
       "1                                            0.000000          \n",
       "2                                            0.000000          \n",
       "3                                            0.000000          \n",
       "4                                            0.000000          \n",
       "..                                                ...          \n",
       "95                                           0.079260          \n",
       "96                                           0.086074          \n",
       "97                                           0.100419          \n",
       "98                                           0.109744          \n",
       "99                                           0.117276          \n",
       "\n",
       "[100 rows x 6 columns]"
      ]
     },
     "execution_count": 28,
     "metadata": {},
     "output_type": "execute_result"
    }
   ],
   "source": [
    "df.head(100)"
   ]
  },
  {
   "cell_type": "code",
   "execution_count": 29,
   "metadata": {},
   "outputs": [
    {
     "name": "stdout",
     "output_type": "stream",
     "text": [
      "<class 'pandas.core.frame.DataFrame'>\n",
      "RangeIndex: 1809 entries, 0 to 1808\n",
      "Data columns (total 6 columns):\n",
      " #   Column                                                             Non-Null Count  Dtype  \n",
      "---  ------                                                             --------------  -----  \n",
      " 0   Entity                                                             1809 non-null   object \n",
      " 1   Day                                                                1809 non-null   object \n",
      " 2   Cumulative excess deaths per 100,000 people (central estimate)     234 non-null    float64\n",
      " 3   Cumulative excess deaths per 100,000 people (95% CI, lower bound)  234 non-null    float64\n",
      " 4   Cumulative excess deaths per 100,000 people (95% CI, upper bound)  234 non-null    float64\n",
      " 5   Total confirmed deaths due to COVID-19 per 100,000 people          1808 non-null   float64\n",
      "dtypes: float64(4), object(2)\n",
      "memory usage: 84.9+ KB\n"
     ]
    }
   ],
   "source": [
    "df.info()"
   ]
  },
  {
   "cell_type": "code",
   "execution_count": 30,
   "metadata": {},
   "outputs": [
    {
     "data": {
      "text/html": [
       "<div>\n",
       "<style scoped>\n",
       "    .dataframe tbody tr th:only-of-type {\n",
       "        vertical-align: middle;\n",
       "    }\n",
       "\n",
       "    .dataframe tbody tr th {\n",
       "        vertical-align: top;\n",
       "    }\n",
       "\n",
       "    .dataframe thead th {\n",
       "        text-align: right;\n",
       "    }\n",
       "</style>\n",
       "<table border=\"1\" class=\"dataframe\">\n",
       "  <thead>\n",
       "    <tr style=\"text-align: right;\">\n",
       "      <th></th>\n",
       "      <th>Cumulative excess deaths per 100,000 people (central estimate)</th>\n",
       "      <th>Cumulative excess deaths per 100,000 people (95% CI, lower bound)</th>\n",
       "      <th>Cumulative excess deaths per 100,000 people (95% CI, upper bound)</th>\n",
       "      <th>Total confirmed deaths due to COVID-19 per 100,000 people</th>\n",
       "    </tr>\n",
       "  </thead>\n",
       "  <tbody>\n",
       "    <tr>\n",
       "      <th>count</th>\n",
       "      <td>234.000000</td>\n",
       "      <td>234.000000</td>\n",
       "      <td>234.000000</td>\n",
       "      <td>1808.000000</td>\n",
       "    </tr>\n",
       "    <tr>\n",
       "      <th>mean</th>\n",
       "      <td>167.671389</td>\n",
       "      <td>96.605437</td>\n",
       "      <td>359.483657</td>\n",
       "      <td>40.682040</td>\n",
       "    </tr>\n",
       "    <tr>\n",
       "      <th>std</th>\n",
       "      <td>112.915127</td>\n",
       "      <td>74.984244</td>\n",
       "      <td>245.455489</td>\n",
       "      <td>23.361526</td>\n",
       "    </tr>\n",
       "    <tr>\n",
       "      <th>min</th>\n",
       "      <td>-4.841037</td>\n",
       "      <td>-14.243658</td>\n",
       "      <td>0.844916</td>\n",
       "      <td>0.000000</td>\n",
       "    </tr>\n",
       "    <tr>\n",
       "      <th>25%</th>\n",
       "      <td>38.303674</td>\n",
       "      <td>-0.058598</td>\n",
       "      <td>108.972980</td>\n",
       "      <td>14.644020</td>\n",
       "    </tr>\n",
       "    <tr>\n",
       "      <th>50%</th>\n",
       "      <td>221.083335</td>\n",
       "      <td>138.878705</td>\n",
       "      <td>401.464820</td>\n",
       "      <td>56.204572</td>\n",
       "    </tr>\n",
       "    <tr>\n",
       "      <th>75%</th>\n",
       "      <td>265.730550</td>\n",
       "      <td>158.850015</td>\n",
       "      <td>579.606538</td>\n",
       "      <td>58.070400</td>\n",
       "    </tr>\n",
       "    <tr>\n",
       "      <th>max</th>\n",
       "      <td>304.194800</td>\n",
       "      <td>177.091110</td>\n",
       "      <td>737.245500</td>\n",
       "      <td>58.120968</td>\n",
       "    </tr>\n",
       "  </tbody>\n",
       "</table>\n",
       "</div>"
      ],
      "text/plain": [
       "       Cumulative excess deaths per 100,000 people (central estimate)  \\\n",
       "count                                         234.000000                \n",
       "mean                                          167.671389                \n",
       "std                                           112.915127                \n",
       "min                                            -4.841037                \n",
       "25%                                            38.303674                \n",
       "50%                                           221.083335                \n",
       "75%                                           265.730550                \n",
       "max                                           304.194800                \n",
       "\n",
       "       Cumulative excess deaths per 100,000 people (95% CI, lower bound)  \\\n",
       "count                                         234.000000                   \n",
       "mean                                           96.605437                   \n",
       "std                                            74.984244                   \n",
       "min                                           -14.243658                   \n",
       "25%                                            -0.058598                   \n",
       "50%                                           138.878705                   \n",
       "75%                                           158.850015                   \n",
       "max                                           177.091110                   \n",
       "\n",
       "       Cumulative excess deaths per 100,000 people (95% CI, upper bound)  \\\n",
       "count                                         234.000000                   \n",
       "mean                                          359.483657                   \n",
       "std                                           245.455489                   \n",
       "min                                             0.844916                   \n",
       "25%                                           108.972980                   \n",
       "50%                                           401.464820                   \n",
       "75%                                           579.606538                   \n",
       "max                                           737.245500                   \n",
       "\n",
       "       Total confirmed deaths due to COVID-19 per 100,000 people  \n",
       "count                                        1808.000000          \n",
       "mean                                           40.682040          \n",
       "std                                            23.361526          \n",
       "min                                             0.000000          \n",
       "25%                                            14.644020          \n",
       "50%                                            56.204572          \n",
       "75%                                            58.070400          \n",
       "max                                            58.120968          "
      ]
     },
     "execution_count": 30,
     "metadata": {},
     "output_type": "execute_result"
    }
   ],
   "source": [
    "df.describe()"
   ]
  },
  {
   "cell_type": "code",
   "execution_count": 31,
   "metadata": {},
   "outputs": [
    {
     "data": {
      "text/plain": [
       "Entity                                                                  0\n",
       "Day                                                                     0\n",
       "Cumulative excess deaths per 100,000 people (central estimate)       1575\n",
       "Cumulative excess deaths per 100,000 people (95% CI, lower bound)    1575\n",
       "Cumulative excess deaths per 100,000 people (95% CI, upper bound)    1575\n",
       "Total confirmed deaths due to COVID-19 per 100,000 people               1\n",
       "dtype: int64"
      ]
     },
     "execution_count": 31,
     "metadata": {},
     "output_type": "execute_result"
    }
   ],
   "source": [
    "df.isna().sum()"
   ]
  },
  {
   "cell_type": "code",
   "execution_count": 32,
   "metadata": {},
   "outputs": [
    {
     "data": {
      "text/plain": [
       "Index(['Entity', 'Day',\n",
       "       'Cumulative excess deaths per 100,000 people (central estimate)',\n",
       "       'Cumulative excess deaths per 100,000 people (95% CI, lower bound)',\n",
       "       'Cumulative excess deaths per 100,000 people (95% CI, upper bound)',\n",
       "       'Total confirmed deaths due to COVID-19 per 100,000 people'],\n",
       "      dtype='object')"
      ]
     },
     "execution_count": 32,
     "metadata": {},
     "output_type": "execute_result"
    }
   ],
   "source": [
    "df.columns"
   ]
  },
  {
   "cell_type": "code",
   "execution_count": 33,
   "metadata": {},
   "outputs": [],
   "source": [
    "# Menghapus kolom births & deaths medium variant (2024 - 2100)\n",
    "df.drop(columns=['Cumulative excess deaths per 100,000 people (central estimate)', 'Cumulative excess deaths per 100,000 people (95% CI, lower bound)', 'Cumulative excess deaths per 100,000 people (95% CI, upper bound)'], inplace=True)"
   ]
  },
  {
   "cell_type": "code",
   "execution_count": 34,
   "metadata": {},
   "outputs": [
    {
     "data": {
      "text/plain": [
       "Index(['Entity', 'Day',\n",
       "       'Total confirmed deaths due to COVID-19 per 100,000 people'],\n",
       "      dtype='object')"
      ]
     },
     "execution_count": 34,
     "metadata": {},
     "output_type": "execute_result"
    }
   ],
   "source": [
    "df.columns"
   ]
  },
  {
   "cell_type": "code",
   "execution_count": 35,
   "metadata": {},
   "outputs": [
    {
     "data": {
      "text/html": [
       "<div>\n",
       "<style scoped>\n",
       "    .dataframe tbody tr th:only-of-type {\n",
       "        vertical-align: middle;\n",
       "    }\n",
       "\n",
       "    .dataframe tbody tr th {\n",
       "        vertical-align: top;\n",
       "    }\n",
       "\n",
       "    .dataframe thead th {\n",
       "        text-align: right;\n",
       "    }\n",
       "</style>\n",
       "<table border=\"1\" class=\"dataframe\">\n",
       "  <thead>\n",
       "    <tr style=\"text-align: right;\">\n",
       "      <th></th>\n",
       "      <th>Entity</th>\n",
       "      <th>Day</th>\n",
       "      <th>Total confirmed deaths due to COVID-19 per 100,000 people</th>\n",
       "    </tr>\n",
       "  </thead>\n",
       "  <tbody>\n",
       "    <tr>\n",
       "      <th>0</th>\n",
       "      <td>Indonesia</td>\n",
       "      <td>2020-01-01</td>\n",
       "      <td>NaN</td>\n",
       "    </tr>\n",
       "    <tr>\n",
       "      <th>1</th>\n",
       "      <td>Indonesia</td>\n",
       "      <td>2020-01-04</td>\n",
       "      <td>0.0</td>\n",
       "    </tr>\n",
       "    <tr>\n",
       "      <th>2</th>\n",
       "      <td>Indonesia</td>\n",
       "      <td>2020-01-05</td>\n",
       "      <td>0.0</td>\n",
       "    </tr>\n",
       "    <tr>\n",
       "      <th>3</th>\n",
       "      <td>Indonesia</td>\n",
       "      <td>2020-01-06</td>\n",
       "      <td>0.0</td>\n",
       "    </tr>\n",
       "    <tr>\n",
       "      <th>4</th>\n",
       "      <td>Indonesia</td>\n",
       "      <td>2020-01-07</td>\n",
       "      <td>0.0</td>\n",
       "    </tr>\n",
       "  </tbody>\n",
       "</table>\n",
       "</div>"
      ],
      "text/plain": [
       "      Entity         Day  \\\n",
       "0  Indonesia  2020-01-01   \n",
       "1  Indonesia  2020-01-04   \n",
       "2  Indonesia  2020-01-05   \n",
       "3  Indonesia  2020-01-06   \n",
       "4  Indonesia  2020-01-07   \n",
       "\n",
       "   Total confirmed deaths due to COVID-19 per 100,000 people  \n",
       "0                                                NaN          \n",
       "1                                                0.0          \n",
       "2                                                0.0          \n",
       "3                                                0.0          \n",
       "4                                                0.0          "
      ]
     },
     "execution_count": 35,
     "metadata": {},
     "output_type": "execute_result"
    }
   ],
   "source": [
    "df.head()"
   ]
  },
  {
   "cell_type": "code",
   "execution_count": 36,
   "metadata": {},
   "outputs": [
    {
     "data": {
      "text/plain": [
       "Entity                                                       0\n",
       "Day                                                          0\n",
       "Total confirmed deaths due to COVID-19 per 100,000 people    0\n",
       "dtype: int64"
      ]
     },
     "execution_count": 36,
     "metadata": {},
     "output_type": "execute_result"
    }
   ],
   "source": [
    "df.dropna(inplace=True)\n",
    "df.isna().sum()\n"
   ]
  },
  {
   "cell_type": "code",
   "execution_count": 37,
   "metadata": {},
   "outputs": [],
   "source": [
    "# Menyimpan hasil\n",
    "df.to_csv('../../dataset/cleaned-data/cleaned_data_covid19_deaths.csv', index=False)"
   ]
  }
 ],
 "metadata": {
  "kernelspec": {
   "display_name": "Python 3",
   "language": "python",
   "name": "python3"
  },
  "language_info": {
   "codemirror_mode": {
    "name": "ipython",
    "version": 3
   },
   "file_extension": ".py",
   "mimetype": "text/x-python",
   "name": "python",
   "nbconvert_exporter": "python",
   "pygments_lexer": "ipython3",
   "version": "3.13.0"
  }
 },
 "nbformat": 4,
 "nbformat_minor": 2
}
